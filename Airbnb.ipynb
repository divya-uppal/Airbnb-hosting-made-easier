{
 "cells": [
  {
   "cell_type": "code",
   "execution_count": 15,
   "id": "c6ce71ad",
   "metadata": {},
   "outputs": [
    {
     "name": "stderr",
     "output_type": "stream",
     "text": [
      "/Users/divyauppal/opt/anaconda3/lib/python3.9/site-packages/IPython/core/interactiveshell.py:3444: DtypeWarning: Columns (67) have mixed types.Specify dtype option on import or set low_memory=False.\n",
      "  exec(code_obj, self.user_global_ns, self.user_ns)\n"
     ]
    }
   ],
   "source": [
    "import pandas as pd\n",
    "import statsmodels.api as sm\n",
    "import seaborn as sns\n",
    "#Airbnb Listing Data\n",
    "df= pd.read_csv(\"airbnb.csv\")\n",
    "#Airbnb Calender Data\n",
    "df1= pd.read_csv(\"Airbnb_listing.csv\")"
   ]
  },
  {
   "cell_type": "code",
   "execution_count": null,
   "id": "38620c75",
   "metadata": {},
   "outputs": [],
   "source": [
    "# Merging Calender and Listing Data\n",
    "df3 = pd.merge(df1,df,how = \"inner\",left_on = \"id\", right_on = \"listing_id\",left_index = False, right_index = False)\n"
   ]
  },
  {
   "cell_type": "code",
   "execution_count": null,
   "id": "18707ed9",
   "metadata": {},
   "outputs": [],
   "source": [
    "##Manhattan Data Cleaning and saving to be used in Excel/Tableau\n",
    "df6 = df3[df3.neighbourhood_group_cleansed == \"Manhattan\"]\n",
    "df7 = df6[((df6.accommodates == 2) & (df6.room_type == \"Entire home/apt\"))]\n",
    "df7.drop(columns = [\"listing_url\",\"scrape_id\",\"last_scraped\",\"name\",\"description\",\"neighborhood_overview\",\"picture_url\",\"host_id\"], inplace = True)\n",
    "df7.drop(columns = [\"host_url\",\"host_name\",\"host_location\",\"host_about\"], inplace = True)\n",
    "df7.drop(columns = [\"host_thumbnail_url\",\"host_picture_url\"], inplace = True)\n",
    "df7.to_csv(\"Manhattan_Data.csv\")"
   ]
  },
  {
   "cell_type": "code",
   "execution_count": null,
   "id": "84b7a238",
   "metadata": {},
   "outputs": [],
   "source": [
    "# Saving data for midtown\n",
    "print(df4[df4.duplicated()])\n",
    "df4 = df3[df3.neighbourhood_cleansed == \"Midtown\"]\n",
    "df4.to_csv(\"Midtown_Data.csv\")"
   ]
  },
  {
   "cell_type": "code",
   "execution_count": 21,
   "id": "a011a9c6",
   "metadata": {},
   "outputs": [],
   "source": [
    "# Looking at 2 accomodation place in Midtown (Manhattan)\n",
    "df5 = df4[((df4.accommodates == 2) & (df4.room_type == \"Entire home/apt\"))]\n",
    "df5['len_amen'] = df5['amenities'].apply(lambda x: len(x.split(',')))\n",
    "df5.to_csv(\"Midtown_Data_Home_2.csv\")\n"
   ]
  },
  {
   "cell_type": "code",
   "execution_count": null,
   "id": "bf09e715",
   "metadata": {},
   "outputs": [],
   "source": [
    "#Cleaning data for 2 accomodation place in Midtown\n",
    "df_test = df5.copy(deep = True)\n",
    "df_test.drop(columns = ['id','host_since','host_response_time','host_response_rate','host_acceptance_rate','price_x','host_total_listings_count','minimum_nights_y'], inplace = True)\n",
    "df_test.dropna(subset=[\"bathrooms_text\",\"price_y\",'host_listings_count','bedrooms','beds','maximum_nights_x','minimum_nights_x','availability_30','availability_60','availability_90','availability_365','number_of_reviews','number_of_reviews_ltm'], axis=0, inplace=True)\n",
    "df_test.dropna(subset=['number_of_reviews_l30d','review_scores_rating','review_scores_accuracy','review_scores_cleanliness','review_scores_checkin','review_scores_checkin','review_scores_location','review_scores_value','reviews_per_month','len_amen'], axis=0, inplace=True)\n",
    "#df_test.dropna(inplace = True)\n",
    "#df_test.dropna(inplace = True)\n",
    "\n",
    "df_test['price_y'] = df_test['price_y'].apply(lambda x: x.replace('$',''))\n",
    "df_test['bathrooms_text'] = df_test['bathrooms_text'].apply(lambda x: x.replace('bath',''))\n",
    "df_test['price_y'] = df_test['price_y'].apply(lambda x: x.replace(',',''))\n"
   ]
  },
  {
   "cell_type": "code",
   "execution_count": null,
   "id": "100c1fb8",
   "metadata": {},
   "outputs": [],
   "source": [
    "#Checking factors which drive price of an Airbnb Listing\n",
    "import seaborn as sns\n",
    "from sklearn.preprocessing import StandardScaler\n",
    "from sklearn.linear_model import LinearRegression, Lasso, LassoCV, Ridge, RidgeCV\n",
    "\n",
    "X = df_test[['host_listings_count','bedrooms','beds','maximum_nights_x','minimum_nights_x','availability_365','number_of_reviews','review_scores_rating','review_scores_accuracy','review_scores_cleanliness','review_scores_checkin','review_scores_checkin','review_scores_location','review_scores_value','len_amen']]\n",
    "Y = df_test[\"price_y\"]\n",
    "std = StandardScaler()\n",
    "std.fit(X.values)\n",
    "## apply the scaler to the train set\n",
    "X_tr = std.transform(X.values)\n",
    "## Apply the scaler to the test set\n",
    "\n",
    "lasso = Lasso(alpha = 10)\n",
    "lasso.fit(X_tr, Y)\n",
    "test_r_squared = lasso.score(X_tr, Y)\n",
    "print(test_r_squared)\n",
    "print(list(zip(X.columns, lasso.coef_)))"
   ]
  }
 ],
 "metadata": {
  "kernelspec": {
   "display_name": "Python 3 (ipykernel)",
   "language": "python",
   "name": "python3"
  },
  "language_info": {
   "codemirror_mode": {
    "name": "ipython",
    "version": 3
   },
   "file_extension": ".py",
   "mimetype": "text/x-python",
   "name": "python",
   "nbconvert_exporter": "python",
   "pygments_lexer": "ipython3",
   "version": "3.9.7"
  }
 },
 "nbformat": 4,
 "nbformat_minor": 5
}
